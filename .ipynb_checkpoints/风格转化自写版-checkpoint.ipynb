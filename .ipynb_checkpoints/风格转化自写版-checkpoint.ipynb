{
 "cells": [
  {
   "cell_type": "code",
   "execution_count": 1,
   "id": "42caf8a8",
   "metadata": {},
   "outputs": [],
   "source": [
    "import os\n",
    "import sys\n",
    "import scipy.io\n",
    "import scipy.misc\n",
    "import imageio\n",
    "import matplotlib.pyplot as plt\n",
    "from matplotlib.pyplot import imshow\n",
    "from PIL import Image\n",
    "from nst_utils import *\n",
    "import numpy as np\n",
    "import tensorflow as tf\n",
    "\n",
    "%matplotlib inline"
   ]
  },
  {
   "cell_type": "code",
   "execution_count": 2,
   "id": "8feda898",
   "metadata": {},
   "outputs": [],
   "source": [
    "#vgg是一个训练好的模型，该模型通过大量的训练使得卷积核可以有效的提取各类特征\n",
    "#我们利用该模型以及训练好的w和b去提取内容图片和风格图片的特征，并写好损失函数，生成风格图片\n",
    "\n",
    "#首先是载入模型\n",
    "\n",
    "vgg=scipy.io.loadmat(\"pretrained-model/imagenet-vgg-verydeep-19.mat\")\n",
    "\n",
    "#把vgg的参数都读取出来\n",
    "\n",
    "vgg_layers=vgg['layers']\n"
   ]
  },
  {
   "cell_type": "code",
   "execution_count": 14,
   "id": "52e97075",
   "metadata": {},
   "outputs": [
    {
     "name": "stdout",
     "output_type": "stream",
     "text": [
      "__version__\n",
      "layers\n",
      "__globals__\n",
      "__header__\n",
      "meta\n"
     ]
    }
   ],
   "source": [
    "for key in vgg:\n",
    "    print(key)"
   ]
  },
  {
   "cell_type": "code",
   "execution_count": 4,
   "id": "1e498177",
   "metadata": {},
   "outputs": [
    {
     "name": "stdout",
     "output_type": "stream",
     "text": [
      "(43,)\n",
      "[[ 3  3  3 64]]\n",
      "[[1 1 1 1]]\n",
      "[[1 1]]\n",
      "[[0]]\n",
      "[[1]]\n"
     ]
    }
   ],
   "source": [
    "print(vgg_layers[0].shape) #vgg_layers一共有43层，第二位为层数？\n",
    "#vgg_layers[0][layer][0][0][2] layer层的w和b 第6位为name\n",
    "for i in range(3,8):\n",
    "    print(vgg_layers[0][0][0][0][i])"
   ]
  },
  {
   "cell_type": "code",
   "execution_count": 3,
   "id": "063fb7a4",
   "metadata": {},
   "outputs": [],
   "source": [
    "#定义一个函数读取某一层vgg的wb和name\n",
    "def weight(layer,excepted_layer_name):\n",
    "    wb=vgg_layers[0][layer][0][0][2]\n",
    "    W=wb[0][0]\n",
    "    b=wb[0][1]\n",
    "    layer_name = vgg_layers[0][layer][0][0][0][0]\n",
    "    assert layer_name==excepted_layer_name\n",
    "    return W,b"
   ]
  },
  {
   "cell_type": "code",
   "execution_count": 4,
   "id": "63bc6547",
   "metadata": {},
   "outputs": [],
   "source": [
    "#接下去要利用重新构建vgg网络，并加载vgg训练好的W和b\n",
    "def relu(prev_layer):\n",
    "    return tf.nn.relu(prev_layer)\n",
    "\n",
    "def conv_2d(prev_layer,layer,excepted_layer_name):\n",
    "    W,b=weight(layer,excepted_layer_name)\n",
    "    W = tf.constant(W)                      #把W设定为常量\n",
    "    b = tf.constant(np.reshape(b,b.shape))  #把b设定为常量，并确保一下shape不变\n",
    "    return tf.nn.conv2d(prev_layer,filter=W,strides=[1,1,1,1],padding='SAME')+b\n",
    "\n",
    "def relu_conv_2d(prev_layer,layer,excepted_layer_name):\n",
    "    return relu(conv_2d(prev_layer,layer,excepted_layer_name))\n",
    "\n",
    "def avgpool(prev_layer):\n",
    "    return tf.nn.avg_pool(prev_layer, ksize=[1, 2, 2, 1], strides=[1, 2, 2, 1], padding='SAME')\n",
    "\n",
    "def maxpool(prev_layer):\n",
    "    return tf.nn.max_pool(prev_layer, ksize=[1, 2, 2, 1], strides=[1, 2, 2, 1], padding='SAME')\n",
    "\n",
    "\n",
    "def load_vgg_model1():\n",
    "    #建立一个计算图，计算图以字典的形式构成\n",
    "    graph={}\n",
    "    graph['input']=tf.Variable(np.zeros((1,300,400,3),dtype='float32')) #输入图片大小为（400x300）RBG\n",
    "    graph['conv1_1']=relu_conv_2d(graph['input'],0,'conv1_1')\n",
    "    graph['conv1_2']=relu_conv_2d(graph['conv1_1'],2,'conv1_2')\n",
    "    graph['avgpool1']=avgpool(graph['conv1_2'])\n",
    "    graph['conv2_1']=relu_conv_2d(graph['avgpool1'],5,'conv2_1')\n",
    "    graph['conv2_2']=relu_conv_2d(graph['conv2_1'],7,'conv2_2')\n",
    "    graph['avgpool2']=avgpool(graph['conv2_2'])\n",
    "    graph['conv3_1']=relu_conv_2d(graph['avgpool2'],10,'conv3_1')\n",
    "    graph['conv3_2']=relu_conv_2d(graph['conv3_1'],12,'conv3_2')\n",
    "    graph['conv3_3']=relu_conv_2d(graph['conv3_2'],14,'conv3_3')\n",
    "    graph['conv3_4']=relu_conv_2d(graph['conv3_3'],16,'conv3_4')\n",
    "    graph['avgpool3']=avgpool(graph['conv3_4'])\n",
    "    graph['conv4_1']=relu_conv_2d(graph['avgpool3'],19,'conv4_1')\n",
    "    graph['conv4_2']=relu_conv_2d(graph['conv4_1'],21,'conv4_2')\n",
    "\n",
    "\n",
    "    return graph\n",
    "                                  "
   ]
  },
  {
   "cell_type": "code",
   "execution_count": 5,
   "id": "f83d936a",
   "metadata": {},
   "outputs": [],
   "source": [
    "#接下去要利用重新构建vgg网络，并加载vgg训练好的W和b\n",
    "def relu(prev_layer):\n",
    "    return tf.nn.relu(prev_layer)\n",
    "\n",
    "def conv_2d(prev_layer,layer,excepted_layer_name):\n",
    "    W,b=weight(layer,excepted_layer_name)\n",
    "    W = tf.constant(W)                      #把W设定为常量\n",
    "    b = tf.constant(np.reshape(b,b.shape))  #把b设定为常量，并确保一下shape不变\n",
    "    return tf.nn.conv2d(prev_layer,filter=W,strides=[1,1,1,1],padding='SAME')\n",
    "\n",
    "def relu_conv_2d(prev_layer,layer,excepted_layer_name):\n",
    "    return relu(conv_2d(prev_layer,layer,excepted_layer_name))\n",
    "\n",
    "def avgpool(prev_layer):\n",
    "    return tf.nn.avg_pool(prev_layer, ksize=[1, 2, 2, 1], strides=[1, 2, 2, 1], padding='SAME')\n",
    "\n",
    "def maxpool(prev_layer):\n",
    "    return tf.nn.max_pool(prev_layer, ksize=[1, 2, 2, 1], strides=[1, 2, 2, 1], padding='SAME')\n",
    "\n",
    "\n",
    "def load_vgg_model2():\n",
    "    #建立一个计算图，计算图以字典的形式构成\n",
    "    graph={}\n",
    "    graph['input']=tf.Variable(np.zeros((1,300,400,3),dtype='float32')) #输入图片大小为（400x300）RBG\n",
    "    graph['conv1_1']=relu_conv_2d(graph['input'],0,'conv1_1')\n",
    "    graph['conv1_2']=relu_conv_2d(graph['conv1_1'],2,'conv1_2')\n",
    "    graph['avgpool1']=avgpool(graph['conv1_2'])\n",
    "    graph['conv2_1']=relu_conv_2d(graph['avgpool1'],5,'conv2_1')\n",
    "    graph['conv2_2']=relu_conv_2d(graph['conv2_1'],7,'conv2_2')\n",
    "    graph['avgpool2']=avgpool(graph['conv2_2'])\n",
    "    graph['conv3_1']=relu_conv_2d(graph['avgpool2'],10,'conv3_1')\n",
    "    graph['conv3_2']=relu_conv_2d(graph['conv3_1'],12,'conv3_2')\n",
    "    graph['conv3_3']=relu_conv_2d(graph['conv3_2'],14,'conv3_3')\n",
    "    graph['conv3_4']=relu_conv_2d(graph['conv3_3'],16,'conv3_4')\n",
    "    graph['avgpool3']=avgpool(graph['conv3_4'])\n",
    "    graph['conv4_1']=relu_conv_2d(graph['avgpool3'],19,'conv4_1')\n",
    "    graph['conv4_2']=relu_conv_2d(graph['conv4_1'],21,'conv4_2')\n",
    "    graph['conv4_3']=relu_conv_2d(graph['conv4_2'],23,'conv4_3')\n",
    "    graph['conv4_4']=relu_conv_2d(graph['conv4_3'],25,'conv4_4')\n",
    "    graph['avgpool4']=avgpool(graph['conv4_4'])\n",
    "    graph['conv5_1']=relu_conv_2d(graph['avgpool4'],28,'conv5_1')\n",
    "    graph['conv5_2']=relu_conv_2d(graph['conv5_1'],30,'conv5_2')\n",
    "    graph['conv5_3']=relu_conv_2d(graph['conv5_2'],32,'conv5_3')\n",
    "    graph['conv5_4']=relu_conv_2d(graph['conv5_3'],34,'conv5_4')\n",
    "    graph['avgpool5']=avgpool(graph['conv5_4'])\n",
    "    return graph"
   ]
  },
  {
   "cell_type": "code",
   "execution_count": 6,
   "id": "8f09b454",
   "metadata": {},
   "outputs": [],
   "source": [
    "#建立模型，其实是计算图（字典模式）\n",
    "model=load_vgg_model1()\n",
    "model_content=model\n",
    "model_style=model"
   ]
  },
  {
   "cell_type": "code",
   "execution_count": 7,
   "id": "0b77d848",
   "metadata": {},
   "outputs": [],
   "source": [
    "#定义计算某一层cost的函数\n",
    "def compute_content_layer_cost1(a_C,a_G):\n",
    "    m,n_h,n_w,n_c=a_G.get_shape().as_list()\n",
    "    \n",
    "    content_cost=(1/(4*n_h*n_w*n_c))*tf.reduce_sum(tf.pow((a_C-a_G),2))\n",
    "    \n",
    "    return content_cost\n",
    "\n",
    "\n",
    "\n",
    "def compute_style_layer_cost1(a_S,a_G):\n",
    "    m,n_h,n_w,n_c=a_G.get_shape().as_list()\n",
    "    \n",
    "    a_S=tf.reshape(a_S,(n_h*n_w,n_c)) #扁平化\n",
    "    a_G=tf.reshape(a_G,(n_h*n_w,n_c))\n",
    "    \n",
    "    GS=tf.matmul(tf.transpose(a_S),a_S) #计算style图片的风格矩阵,计算的维度（C,hw）x（hw,C）\n",
    "    GG=tf.matmul(tf.transpose(a_G),a_G) #计算生成图片的风格矩阵,计算的维度（C,hw）x（hw,C）\n",
    "    \n",
    "    style_cost=(1/(4* (n_h*n_w)**2 * n_c**2 ))*tf.reduce_sum(tf.pow((GS-GG),2))\n",
    "    \n",
    "    return style_cost\n",
    "\n",
    "\n",
    "\n",
    "#定义完整的损失函数\n",
    "\n",
    "def compute_content_cost1(model,content_layer,content_image):\n",
    "    \n",
    "    sess=tf.InteractiveSession()\n",
    "    J_content = 0\n",
    "    sess.run(model_content['input'].assign(content_image))\n",
    "    #计算内容cost\n",
    "    for layer_c, coeff_c in content_layer:\n",
    "\n",
    "        a_C=sess.run(model_content[layer_c])\n",
    "        a_G=model[layer_c]\n",
    "        content_cost=compute_content_layer_cost1(a_C,a_G)\n",
    "        \n",
    "        J_content+=coeff_c*content_cost\n",
    "        \n",
    "    return J_content\n",
    "\n",
    "def normalize(data):\n",
    "    mean=tf.reduce_mean(data)\n",
    "    mx=tf.reduce_max(data)\n",
    "    mn=tf.reduce_min(data)\n",
    "    \n",
    "    return (data-mean)/(mx-mn)\n",
    "\n",
    "def compute_sytle_cost1(model,style_layer,style_image):\n",
    "    sess=tf.InteractiveSession()\n",
    "    J_style = 0    \n",
    "    sess.run(model_style['input'].assign(style_image))    \n",
    "    for layer_s,coeff_s in style_layer:\n",
    "        \n",
    "        a_S=sess.run(model_style[layer_s])\n",
    "        a_G=model[layer_s]\n",
    "        \n",
    "        a_S_n=normalize(a_S)\n",
    "        a_G_n=normalize(a_G)        \n",
    "        \n",
    "        style_cost=compute_style_layer_cost1(a_S_n,a_G_n)\n",
    "        \n",
    "        J_style+=coeff_s*style_cost\n",
    "        \n",
    "    return J_style\n",
    "\n",
    "def compute_total_cost1(J_content,J_style,alpha,beta):\n",
    "    \n",
    "    J_total=alpha*J_content + beta*J_style\n",
    "    \n",
    "    return J_total\n",
    "        "
   ]
  },
  {
   "cell_type": "code",
   "execution_count": 8,
   "id": "e4ebda38",
   "metadata": {},
   "outputs": [],
   "source": [
    "#定义完整的函数\n",
    "def model_nn(model,content_layer,style_layer,content_image,style_image,input_image,\n",
    "             alpha=10, beta=40, learning_rate=2.0, num_iterations=100):\n",
    "    \n",
    "    sess=tf.InteractiveSession()\n",
    "    \n",
    "    J_content=compute_content_cost1(model,content_layer,content_image)\n",
    "    J_style=compute_sytle_cost1(model,style_layer,style_image)\n",
    "    J_total=compute_total_cost1(J_content,J_style,alpha,beta)\n",
    "    \n",
    "    optimizer=tf.train.AdamOptimizer(learning_rate=learning_rate)\n",
    "    \n",
    "    train_step=optimizer.minimize(J_total)\n",
    "    \n",
    "    sess.run(tf.global_variables_initializer())\n",
    "    \n",
    "    sess.run(model['input'].assign(input_image))    \n",
    "    \n",
    "    for i in range(num_iterations):\n",
    "        \n",
    "        sess.run(train_step)\n",
    "        \n",
    "        generated_image=sess.run(model['input'])\n",
    "        \n",
    "        if i%20 ==0:\n",
    "            Jc,Js,J=sess.run([J_content,J_style,J_total])\n",
    "            print('Iteration'+str(i)+':')\n",
    "            print('Total cost:'+str(J))\n",
    "            print('Content cost:'+str(alpha*Jc))\n",
    "            print('Style cost:'+str(beta*Js))\n",
    "            \n",
    "            save_image(\"output/\" + str(i) + \".png\", generated_image)\n",
    "            \n",
    "    save_image('output/generated_image.jpg', generated_image)\n",
    "    \n",
    "    return generated_image"
   ]
  },
  {
   "cell_type": "code",
   "execution_count": 24,
   "id": "5ec4f48b",
   "metadata": {},
   "outputs": [],
   "source": [
    "def image_resize(filein,fileout,width=300,height=225):\n",
    "    img=Image.open(filein)\n",
    "    out = img.resize((width, height), Image.ANTIALIAS)\n",
    "    # 第二个参数：\n",
    "    # Image.NEAREST ：低质量\n",
    "    # Image.BILINEAR：双线性\n",
    "    # Image.BICUBIC ：三次样条插值\n",
    "    # Image.ANTIALIAS：高质量\n",
    "    out.save(fileout)\n",
    "    return"
   ]
  },
  {
   "cell_type": "code",
   "execution_count": 36,
   "id": "bb7ac767",
   "metadata": {},
   "outputs": [],
   "source": [
    "image_resize('images/style2-big.jpg','images/style2-small.jpg',width=400,height=300)\n"
   ]
  },
  {
   "cell_type": "code",
   "execution_count": 34,
   "id": "a0fa9855",
   "metadata": {},
   "outputs": [
    {
     "name": "stdout",
     "output_type": "stream",
     "text": [
      "(400, 300)\n"
     ]
    }
   ],
   "source": [
    "#image_resize('images/cz-big.jpg','images/cz-small.jpg',width=400,height=300)\n",
    "img=Image.open('images/style1-small.jpg')\n",
    "print(img.size)"
   ]
  },
  {
   "cell_type": "code",
   "execution_count": 12,
   "id": "8b605dd1",
   "metadata": {},
   "outputs": [],
   "source": [
    "content_image = imageio.imread(\"images/cz2-small.jpg\")\n",
    "content_image = reshape_and_normalize_image(content_image)\n",
    "\n",
    "style_image = imageio.imread(\"images/style1-small.jpg\")\n",
    "style_image = reshape_and_normalize_image(style_image)\n",
    "\n",
    "input_image = generate_noise_image(content_image)"
   ]
  },
  {
   "cell_type": "code",
   "execution_count": 13,
   "id": "b7547149",
   "metadata": {},
   "outputs": [],
   "source": [
    "#建立2个list，一个content，一个sytle\n",
    "content_layer=[['conv1_2',0],['conv2_2',0],['conv3_2',0],['conv4_2',1]]\n",
    "style_layer=[['conv1_1',0.0],['conv2_1',0.0],['conv3_1',0.0],['conv4_1',1.0]]\n"
   ]
  },
  {
   "cell_type": "code",
   "execution_count": 14,
   "id": "eb428b9e",
   "metadata": {},
   "outputs": [
    {
     "name": "stdout",
     "output_type": "stream",
     "text": [
      "Iteration0:\n",
      "Total cost:343647.9\n",
      "Content cost:10879.1640625\n",
      "Style cost:332768.763655622\n",
      "Iteration20:\n",
      "Total cost:138600.52\n",
      "Content cost:12233.1533203125\n",
      "Style cost:126367.36812510208\n",
      "Iteration40:\n",
      "Total cost:73867.17\n",
      "Content cost:12928.6240234375\n",
      "Style cost:60938.54665323306\n",
      "Iteration60:\n",
      "Total cost:52841.246\n",
      "Content cost:13171.2294921875\n",
      "Style cost:39670.01660498681\n",
      "Iteration80:\n",
      "Total cost:44710.36\n",
      "Content cost:13275.953125\n",
      "Style cost:31434.403524599475\n"
     ]
    },
    {
     "ename": "KeyboardInterrupt",
     "evalue": "",
     "output_type": "error",
     "traceback": [
      "\u001b[0;31m---------------------------------------------------------------------------\u001b[0m",
      "\u001b[0;31mKeyboardInterrupt\u001b[0m                         Traceback (most recent call last)",
      "\u001b[0;32m<ipython-input-14-a474a3626bae>\u001b[0m in \u001b[0;36m<module>\u001b[0;34m()\u001b[0m\n\u001b[1;32m      1\u001b[0m generated_image=model_nn(model,content_layer,style_layer,content_image,style_image,input_image,\n\u001b[0;32m----> 2\u001b[0;31m                          alpha=1, beta=1000000000000, learning_rate=1.5, num_iterations=200)\n\u001b[0m",
      "\u001b[0;32m<ipython-input-8-d5cfb722cb2c>\u001b[0m in \u001b[0;36mmodel_nn\u001b[0;34m(model, content_layer, style_layer, content_image, style_image, input_image, alpha, beta, learning_rate, num_iterations)\u001b[0m\n\u001b[1;32m     19\u001b[0m     \u001b[0;32mfor\u001b[0m \u001b[0mi\u001b[0m \u001b[0;32min\u001b[0m \u001b[0mrange\u001b[0m\u001b[0;34m(\u001b[0m\u001b[0mnum_iterations\u001b[0m\u001b[0;34m)\u001b[0m\u001b[0;34m:\u001b[0m\u001b[0;34m\u001b[0m\u001b[0m\n\u001b[1;32m     20\u001b[0m \u001b[0;34m\u001b[0m\u001b[0m\n\u001b[0;32m---> 21\u001b[0;31m         \u001b[0msess\u001b[0m\u001b[0;34m.\u001b[0m\u001b[0mrun\u001b[0m\u001b[0;34m(\u001b[0m\u001b[0mtrain_step\u001b[0m\u001b[0;34m)\u001b[0m\u001b[0;34m\u001b[0m\u001b[0m\n\u001b[0m\u001b[1;32m     22\u001b[0m \u001b[0;34m\u001b[0m\u001b[0m\n\u001b[1;32m     23\u001b[0m         \u001b[0mgenerated_image\u001b[0m\u001b[0;34m=\u001b[0m\u001b[0msess\u001b[0m\u001b[0;34m.\u001b[0m\u001b[0mrun\u001b[0m\u001b[0;34m(\u001b[0m\u001b[0mmodel\u001b[0m\u001b[0;34m[\u001b[0m\u001b[0;34m'input'\u001b[0m\u001b[0;34m]\u001b[0m\u001b[0;34m)\u001b[0m\u001b[0;34m\u001b[0m\u001b[0m\n",
      "\u001b[0;32m/opt/anaconda3/envs/tf1.21/lib/python3.5/site-packages/tensorflow/python/client/session.py\u001b[0m in \u001b[0;36mrun\u001b[0;34m(self, fetches, feed_dict, options, run_metadata)\u001b[0m\n\u001b[1;32m    787\u001b[0m     \u001b[0;32mtry\u001b[0m\u001b[0;34m:\u001b[0m\u001b[0;34m\u001b[0m\u001b[0m\n\u001b[1;32m    788\u001b[0m       result = self._run(None, fetches, feed_dict, options_ptr,\n\u001b[0;32m--> 789\u001b[0;31m                          run_metadata_ptr)\n\u001b[0m\u001b[1;32m    790\u001b[0m       \u001b[0;32mif\u001b[0m \u001b[0mrun_metadata\u001b[0m\u001b[0;34m:\u001b[0m\u001b[0;34m\u001b[0m\u001b[0m\n\u001b[1;32m    791\u001b[0m         \u001b[0mproto_data\u001b[0m \u001b[0;34m=\u001b[0m \u001b[0mtf_session\u001b[0m\u001b[0;34m.\u001b[0m\u001b[0mTF_GetBuffer\u001b[0m\u001b[0;34m(\u001b[0m\u001b[0mrun_metadata_ptr\u001b[0m\u001b[0;34m)\u001b[0m\u001b[0;34m\u001b[0m\u001b[0m\n",
      "\u001b[0;32m/opt/anaconda3/envs/tf1.21/lib/python3.5/site-packages/tensorflow/python/client/session.py\u001b[0m in \u001b[0;36m_run\u001b[0;34m(self, handle, fetches, feed_dict, options, run_metadata)\u001b[0m\n\u001b[1;32m    995\u001b[0m     \u001b[0;32mif\u001b[0m \u001b[0mfinal_fetches\u001b[0m \u001b[0;32mor\u001b[0m \u001b[0mfinal_targets\u001b[0m\u001b[0;34m:\u001b[0m\u001b[0;34m\u001b[0m\u001b[0m\n\u001b[1;32m    996\u001b[0m       results = self._do_run(handle, final_targets, final_fetches,\n\u001b[0;32m--> 997\u001b[0;31m                              feed_dict_string, options, run_metadata)\n\u001b[0m\u001b[1;32m    998\u001b[0m     \u001b[0;32melse\u001b[0m\u001b[0;34m:\u001b[0m\u001b[0;34m\u001b[0m\u001b[0m\n\u001b[1;32m    999\u001b[0m       \u001b[0mresults\u001b[0m \u001b[0;34m=\u001b[0m \u001b[0;34m[\u001b[0m\u001b[0;34m]\u001b[0m\u001b[0;34m\u001b[0m\u001b[0m\n",
      "\u001b[0;32m/opt/anaconda3/envs/tf1.21/lib/python3.5/site-packages/tensorflow/python/client/session.py\u001b[0m in \u001b[0;36m_do_run\u001b[0;34m(self, handle, target_list, fetch_list, feed_dict, options, run_metadata)\u001b[0m\n\u001b[1;32m   1130\u001b[0m     \u001b[0;32mif\u001b[0m \u001b[0mhandle\u001b[0m \u001b[0;32mis\u001b[0m \u001b[0;32mNone\u001b[0m\u001b[0;34m:\u001b[0m\u001b[0;34m\u001b[0m\u001b[0m\n\u001b[1;32m   1131\u001b[0m       return self._do_call(_run_fn, self._session, feed_dict, fetch_list,\n\u001b[0;32m-> 1132\u001b[0;31m                            target_list, options, run_metadata)\n\u001b[0m\u001b[1;32m   1133\u001b[0m     \u001b[0;32melse\u001b[0m\u001b[0;34m:\u001b[0m\u001b[0;34m\u001b[0m\u001b[0m\n\u001b[1;32m   1134\u001b[0m       return self._do_call(_prun_fn, self._session, handle, feed_dict,\n",
      "\u001b[0;32m/opt/anaconda3/envs/tf1.21/lib/python3.5/site-packages/tensorflow/python/client/session.py\u001b[0m in \u001b[0;36m_do_call\u001b[0;34m(self, fn, *args)\u001b[0m\n\u001b[1;32m   1137\u001b[0m   \u001b[0;32mdef\u001b[0m \u001b[0m_do_call\u001b[0m\u001b[0;34m(\u001b[0m\u001b[0mself\u001b[0m\u001b[0;34m,\u001b[0m \u001b[0mfn\u001b[0m\u001b[0;34m,\u001b[0m \u001b[0;34m*\u001b[0m\u001b[0margs\u001b[0m\u001b[0;34m)\u001b[0m\u001b[0;34m:\u001b[0m\u001b[0;34m\u001b[0m\u001b[0m\n\u001b[1;32m   1138\u001b[0m     \u001b[0;32mtry\u001b[0m\u001b[0;34m:\u001b[0m\u001b[0;34m\u001b[0m\u001b[0m\n\u001b[0;32m-> 1139\u001b[0;31m       \u001b[0;32mreturn\u001b[0m \u001b[0mfn\u001b[0m\u001b[0;34m(\u001b[0m\u001b[0;34m*\u001b[0m\u001b[0margs\u001b[0m\u001b[0;34m)\u001b[0m\u001b[0;34m\u001b[0m\u001b[0m\n\u001b[0m\u001b[1;32m   1140\u001b[0m     \u001b[0;32mexcept\u001b[0m \u001b[0merrors\u001b[0m\u001b[0;34m.\u001b[0m\u001b[0mOpError\u001b[0m \u001b[0;32mas\u001b[0m \u001b[0me\u001b[0m\u001b[0;34m:\u001b[0m\u001b[0;34m\u001b[0m\u001b[0m\n\u001b[1;32m   1141\u001b[0m       \u001b[0mmessage\u001b[0m \u001b[0;34m=\u001b[0m \u001b[0mcompat\u001b[0m\u001b[0;34m.\u001b[0m\u001b[0mas_text\u001b[0m\u001b[0;34m(\u001b[0m\u001b[0me\u001b[0m\u001b[0;34m.\u001b[0m\u001b[0mmessage\u001b[0m\u001b[0;34m)\u001b[0m\u001b[0;34m\u001b[0m\u001b[0m\n",
      "\u001b[0;32m/opt/anaconda3/envs/tf1.21/lib/python3.5/site-packages/tensorflow/python/client/session.py\u001b[0m in \u001b[0;36m_run_fn\u001b[0;34m(session, feed_dict, fetch_list, target_list, options, run_metadata)\u001b[0m\n\u001b[1;32m   1119\u001b[0m         return tf_session.TF_Run(session, options,\n\u001b[1;32m   1120\u001b[0m                                  \u001b[0mfeed_dict\u001b[0m\u001b[0;34m,\u001b[0m \u001b[0mfetch_list\u001b[0m\u001b[0;34m,\u001b[0m \u001b[0mtarget_list\u001b[0m\u001b[0;34m,\u001b[0m\u001b[0;34m\u001b[0m\u001b[0m\n\u001b[0;32m-> 1121\u001b[0;31m                                  status, run_metadata)\n\u001b[0m\u001b[1;32m   1122\u001b[0m \u001b[0;34m\u001b[0m\u001b[0m\n\u001b[1;32m   1123\u001b[0m     \u001b[0;32mdef\u001b[0m \u001b[0m_prun_fn\u001b[0m\u001b[0;34m(\u001b[0m\u001b[0msession\u001b[0m\u001b[0;34m,\u001b[0m \u001b[0mhandle\u001b[0m\u001b[0;34m,\u001b[0m \u001b[0mfeed_dict\u001b[0m\u001b[0;34m,\u001b[0m \u001b[0mfetch_list\u001b[0m\u001b[0;34m)\u001b[0m\u001b[0;34m:\u001b[0m\u001b[0;34m\u001b[0m\u001b[0m\n",
      "\u001b[0;31mKeyboardInterrupt\u001b[0m: "
     ]
    }
   ],
   "source": [
    "generated_image=model_nn(model,content_layer,style_layer,content_image,style_image,input_image,\n",
    "                         alpha=1, beta=1000000000000, learning_rate=1.5, num_iterations=200)"
   ]
  },
  {
   "cell_type": "code",
   "execution_count": null,
   "id": "f62d7791",
   "metadata": {},
   "outputs": [],
   "source": []
  }
 ],
 "metadata": {
  "kernelspec": {
   "display_name": "Python 3",
   "language": "python",
   "name": "python3"
  },
  "language_info": {
   "codemirror_mode": {
    "name": "ipython",
    "version": 3
   },
   "file_extension": ".py",
   "mimetype": "text/x-python",
   "name": "python",
   "nbconvert_exporter": "python",
   "pygments_lexer": "ipython3",
   "version": "3.6.13"
  }
 },
 "nbformat": 4,
 "nbformat_minor": 5
}
